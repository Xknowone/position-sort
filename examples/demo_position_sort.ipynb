{
 "cells": [
  {
   "cell_type": "markdown",
   "id": "56340924",
   "metadata": {},
   "source": [
    "# 📘 Position Sort Demo\n",
    "This notebook demonstrates how to use the `position_sort` algorithm on a few example arrays."
   ]
  },
  {
   "cell_type": "code",
   "id": "82753389",
   "metadata": {
    "ExecuteTime": {
     "end_time": "2025-07-08T21:32:18.569354Z",
     "start_time": "2025-07-08T21:32:18.565375Z"
    }
   },
   "source": [
    "from position_sort.core import position_sort"
   ],
   "outputs": [],
   "execution_count": 6
  },
  {
   "cell_type": "markdown",
   "id": "1ee2574f",
   "metadata": {},
   "source": [
    "### 🔹 Example 1: Floats and Duplicates"
   ]
  },
  {
   "cell_type": "code",
   "id": "241aca15",
   "metadata": {
    "ExecuteTime": {
     "end_time": "2025-07-08T21:32:21.270064Z",
     "start_time": "2025-07-08T21:32:21.260073Z"
    }
   },
   "source": [
    "arr1 = [3.5, -1.2, 0, 5, -1.2]\n",
    "print(\"Before:\", arr1)\n",
    "print(\"After: \", position_sort(arr1))"
   ],
   "outputs": [
    {
     "name": "stdout",
     "output_type": "stream",
     "text": [
      "Before: [3.5, -1.2, 0, 5, -1.2]\n",
      "After:  [-1.2, -1.2, 0, 3.5, 5]\n"
     ]
    }
   ],
   "execution_count": 7
  },
  {
   "cell_type": "markdown",
   "id": "90f84984",
   "metadata": {},
   "source": [
    "### 🔹 Example 2: Negative and Repeating Values"
   ]
  },
  {
   "cell_type": "code",
   "id": "d44c6fe4",
   "metadata": {
    "ExecuteTime": {
     "end_time": "2025-07-08T21:32:23.323577Z",
     "start_time": "2025-07-08T21:32:23.317566Z"
    }
   },
   "source": [
    "arr2 = [0.1, 0.1, -3.2, 9.5]\n",
    "print(\"Before:\", arr2)\n",
    "print(\"After: \", position_sort(arr2))"
   ],
   "outputs": [
    {
     "name": "stdout",
     "output_type": "stream",
     "text": [
      "Before: [0.1, 0.1, -3.2, 9.5]\n",
      "After:  [-3.2, 0.1, 0.1, 9.5]\n"
     ]
    }
   ],
   "execution_count": 8
  },
  {
   "cell_type": "markdown",
   "id": "2aa1e185",
   "metadata": {},
   "source": [
    "### 🔹 Example 3: Already Sorted"
   ]
  },
  {
   "cell_type": "code",
   "id": "59d064cf",
   "metadata": {
    "ExecuteTime": {
     "end_time": "2025-07-08T21:32:27.255071Z",
     "start_time": "2025-07-08T21:32:27.251457Z"
    }
   },
   "source": [
    "arr3 = [-3, -2, -1, 0, 1, 2]\n",
    "print(\"Before:\", arr3)\n",
    "print(\"After: \", position_sort(arr3))"
   ],
   "outputs": [
    {
     "name": "stdout",
     "output_type": "stream",
     "text": [
      "Before: [-3, -2, -1, 0, 1, 2]\n",
      "After:  [-3, -2, -1, 0, 1, 2]\n"
     ]
    }
   ],
   "execution_count": 9
  },
  {
   "cell_type": "markdown",
   "id": "0ad80e33",
   "metadata": {},
   "source": [
    "### ✅ Looks correct! This simple demo shows the algorithm is stable and handles duplicates and negatives."
   ]
  }
 ],
 "metadata": {
  "kernelspec": {
   "name": "python3",
   "language": "python",
   "display_name": "Python 3 (ipykernel)"
  }
 },
 "nbformat": 4,
 "nbformat_minor": 5
}
